{
  "cells": [
    {
      "cell_type": "code",
      "execution_count": null,
      "metadata": {
        "id": "xukoX0vyxwPV"
      },
      "outputs": [],
      "source": [
        "# importing packages\n",
        "\n",
        "from tensorflow.keras.datasets import mnist\n",
        "import numpy as np\n",
        "import matplotlib.pyplot as plt"
      ]
    },
    {
      "cell_type": "code",
      "execution_count": null,
      "metadata": {
        "id": "ptLUe6yq0-kI"
      },
      "outputs": [],
      "source": [
        "# load data\n",
        "(x_train, y_train), (x_test, y_test) = mnist.load_data()\n",
        "\n",
        "# normalise data\n",
        "x_train = x_train / 255.0\n",
        "x_test = x_test / 255.0"
      ]
    },
    {
      "cell_type": "code",
      "execution_count": null,
      "metadata": {
        "id": "3eXVJGtT1EJs"
      },
      "outputs": [],
      "source": [
        "# flatten data\n",
        "\n",
        "x_train_flat = x_train.reshape(-1, 784)\n",
        "x_test_flat = x_test.reshape(-1, 784)"
      ]
    },
    {
      "cell_type": "code",
      "execution_count": null,
      "metadata": {
        "id": "vbwE-N3L2iJR"
      },
      "outputs": [],
      "source": [
        "# parameters\n",
        "\n",
        "n_inputs = np.shape(x_train_flat)[-1]\n",
        "n_outputs = 10\n",
        "learning_rate = 0.1"
      ]
    },
    {
      "cell_type": "code",
      "execution_count": null,
      "metadata": {
        "id": "6f9DUNQz3Qex"
      },
      "outputs": [],
      "source": [
        "# initialise weights randomly\n",
        "\n",
        "weights = np.random.randn(n_outputs, n_inputs)"
      ]
    },
    {
      "cell_type": "code",
      "execution_count": null,
      "metadata": {
        "colab": {
          "base_uri": "https://localhost:8080/"
        },
        "id": "rhi-cYy_3eGd",
        "outputId": "c9a1e25f-5d97-45a8-a8c7-e19b0c75d88f"
      },
      "outputs": [
        {
          "name": "stdout",
          "output_type": "stream",
          "text": [
            "Training complete.\n"
          ]
        }
      ],
      "source": [
        "def one_hot(label, num_classes=10):\n",
        "    target = np.zeros(num_classes)\n",
        "    target[label] = 1\n",
        "    return target\n",
        "\n",
        "for x, label in zip(x_train_flat, y_train):\n",
        "    # forward pass\n",
        "    activations = np.dot(weights, x)\n",
        "    prediction = np.argmax(activations)\n",
        "\n",
        "    # create target vector\n",
        "    target = one_hot(label)\n",
        "\n",
        "    # update weights using perceptron rule\n",
        "    for i in range(n_outputs):\n",
        "        error = target[i] - (1 if i == prediction else 0)\n",
        "        weights[i] += learning_rate * error * x\n",
        "\n",
        "print(\"Training complete.\")"
      ]
    },
    {
      "cell_type": "code",
      "execution_count": null,
      "metadata": {
        "colab": {
          "base_uri": "https://localhost:8080/"
        },
        "id": "JNQyuByv9LgZ",
        "outputId": "bc6684c9-cdc5-4642-f2a2-030a22c5ee06"
      },
      "outputs": [
        {
          "name": "stdout",
          "output_type": "stream",
          "text": [
            "Test accuracy: 85.98%\n"
          ]
        }
      ],
      "source": [
        "correct = 0\n",
        "for x, label in zip(x_test_flat, y_test):\n",
        "    prediction = np.argmax(np.dot(weights, x))\n",
        "    if prediction == label:\n",
        "        correct += 1\n",
        "\n",
        "accuracy = correct / len(y_test)\n",
        "print(f\"Test accuracy: {accuracy * 100:.2f}%\")"
      ]
    }
  ],
  "metadata": {
    "colab": {
      "provenance": []
    },
    "kernelspec": {
      "display_name": "Python 3",
      "name": "python3"
    },
    "language_info": {
      "name": "python"
    }
  },
  "nbformat": 4,
  "nbformat_minor": 0
}
