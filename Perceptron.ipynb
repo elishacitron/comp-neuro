{
  "nbformat": 4,
  "nbformat_minor": 0,
  "metadata": {
    "colab": {
      "provenance": []
    },
    "kernelspec": {
      "name": "python3",
      "display_name": "Python 3"
    },
    "language_info": {
      "name": "python"
    }
  },
  "cells": [
    {
      "cell_type": "code",
      "execution_count": null,
      "metadata": {
        "id": "xukoX0vyxwPV"
      },
      "outputs": [],
      "source": [
        "# importing packages\n",
        "\n",
        "from tensorflow.keras.datasets import mnist\n",
        "import numpy as np\n",
        "import matplotlib.pyplot as plt"
      ]
    },
    {
      "cell_type": "code",
      "source": [
        "# load data\n",
        "(x_train, y_train), (x_test, y_test) = mnist.load_data()\n",
        "\n",
        "# normalise data\n",
        "x_train = x_train / 255.0\n",
        "x_test = x_test / 255.0"
      ],
      "metadata": {
        "id": "ptLUe6yq0-kI"
      },
      "execution_count": null,
      "outputs": []
    },
    {
      "cell_type": "code",
      "source": [
        "# flatten data\n",
        "\n",
        "x_train_flat = x_train.reshape(-1, 784)\n",
        "x_test_flat = x_test.reshape(-1, 784)"
      ],
      "metadata": {
        "id": "3eXVJGtT1EJs"
      },
      "execution_count": null,
      "outputs": []
    },
    {
      "cell_type": "code",
      "source": [
        "# parameters\n",
        "\n",
        "n_inputs = np.shape(x_train_flat)[-1]\n",
        "n_outputs = 10\n",
        "learning_rate = 0.1"
      ],
      "metadata": {
        "id": "vbwE-N3L2iJR"
      },
      "execution_count": null,
      "outputs": []
    },
    {
      "cell_type": "code",
      "source": [
        "# initialise weights randomly\n",
        "\n",
        "weights = np.random.randn(n_outputs, n_inputs)"
      ],
      "metadata": {
        "id": "6f9DUNQz3Qex"
      },
      "execution_count": null,
      "outputs": []
    },
    {
      "cell_type": "code",
      "source": [
        "def one_hot(label, num_classes=10):\n",
        "    target = np.zeros(num_classes)\n",
        "    target[label] = 1\n",
        "    return target\n",
        "\n",
        "for x, label in zip(x_train_flat, y_train):\n",
        "    # forward pass\n",
        "    activations = np.dot(weights, x)\n",
        "    prediction = np.argmax(activations)\n",
        "\n",
        "    # create target vector\n",
        "    target = one_hot(label)\n",
        "\n",
        "    # update weights using perceptron rule\n",
        "    for i in range(n_outputs):\n",
        "        error = target[i] - (1 if i == prediction else 0)\n",
        "        weights[i] += learning_rate * error * x\n",
        "\n",
        "print(\"Training complete.\")"
      ],
      "metadata": {
        "colab": {
          "base_uri": "https://localhost:8080/"
        },
        "id": "rhi-cYy_3eGd",
        "outputId": "c9a1e25f-5d97-45a8-a8c7-e19b0c75d88f"
      },
      "execution_count": null,
      "outputs": [
        {
          "output_type": "stream",
          "name": "stdout",
          "text": [
            "Training complete.\n"
          ]
        }
      ]
    },
    {
      "cell_type": "code",
      "source": [
        "correct = 0\n",
        "for x, label in zip(x_test_flat, y_test):\n",
        "    prediction = np.argmax(np.dot(weights, x))\n",
        "    if prediction == label:\n",
        "        correct += 1\n",
        "\n",
        "accuracy = correct / len(y_test)\n",
        "print(f\"Test accuracy: {accuracy * 100:.2f}%\")"
      ],
      "metadata": {
        "colab": {
          "base_uri": "https://localhost:8080/"
        },
        "id": "JNQyuByv9LgZ",
        "outputId": "bc6684c9-cdc5-4642-f2a2-030a22c5ee06"
      },
      "execution_count": null,
      "outputs": [
        {
          "output_type": "stream",
          "name": "stdout",
          "text": [
            "Test accuracy: 85.98%\n"
          ]
        }
      ]
    },
    {
      "cell_type": "code",
      "source": [],
      "metadata": {
        "id": "4c48Slju9QOt"
      },
      "execution_count": null,
      "outputs": []
    }
  ]
}